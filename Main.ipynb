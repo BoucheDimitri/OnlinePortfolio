{
 "cells": [
  {
   "cell_type": "code",
   "execution_count": 52,
   "metadata": {
    "collapsed": true
   },
   "outputs": [],
   "source": [
    "import numpy as np\n",
    "import pandas as pd\n",
    "import matplotlib.pyplot as plt"
   ]
  },
  {
   "cell_type": "code",
   "execution_count": 4,
   "metadata": {
    "collapsed": false,
    "scrolled": true
   },
   "outputs": [],
   "source": [
    "data_path=\"C://Users//Dimitri//Desktop//ENSAE3A//Apprentissage en ligne//OnlinePortfolio//TreatedData//DataNyse.csv\"\n",
    "# Frequence of rebalancing the portfolio\n",
    "ndays_rebal = 30"
   ]
  },
  {
   "cell_type": "code",
   "execution_count": 5,
   "metadata": {
    "collapsed": false
   },
   "outputs": [
    {
     "name": "stdout",
     "output_type": "stream",
     "text": [
      "               nwl     fhn       cmi     cma     wfc     cms      ups     nem  \\\n",
      "Date                                                                            \n",
      "2001-09-21  17.690  29.537    6.4215  43.127  16.944  15.085   40.068  19.856   \n",
      "2001-09-24  18.018  29.955    6.8668  44.278  17.225  15.085   40.161  19.260   \n",
      "2001-09-25  18.181  30.751    6.9695  45.840  17.372  14.887   41.359  19.565   \n",
      "2001-09-26  18.392  31.850    6.7469  45.112  17.423  14.494   39.861  20.832   \n",
      "2001-09-27  18.852  32.147    6.8838  45.967  17.431  14.287   40.083  21.083   \n",
      "2001-09-28  18.945  32.113    7.0640  46.753  17.735  14.368   41.900  21.039   \n",
      "2001-10-01  19.075  31.814    6.8754  46.376  17.735  14.368   40.826  22.134   \n",
      "2001-10-02  19.347  32.331    7.1667  45.744  17.796  14.454   40.387  21.891   \n",
      "2001-10-03  19.895  31.859    7.2006  45.608  17.859  14.793   41.195  20.581   \n",
      "2001-10-04  19.903  30.760    7.2605  45.325  17.654  15.085   41.917  20.562   \n",
      "2001-10-05  20.112  29.935    7.3888  42.834  17.183  15.413   42.147  21.399   \n",
      "2001-10-08  19.670  28.432    7.1495  41.181  16.621  15.211   41.457  21.166   \n",
      "2001-10-09  19.753  28.177    7.0551  41.423  16.630  15.110   41.071  20.392   \n",
      "2001-10-10  20.512  29.267    7.2778  43.333  16.812  14.917   41.760  19.439   \n",
      "2001-10-11  20.685  29.736    7.5860  42.959  16.694  15.045   42.558  18.901   \n",
      "2001-10-12  20.589  28.378    7.2605  42.191  16.390  15.362   41.071  19.700   \n",
      "2001-10-15  20.301  28.105    7.2265  41.791  16.266  15.597   41.012  19.315   \n",
      "2001-10-16  20.677  28.387    7.2778  41.379  16.033  16.013   40.989  19.538   \n",
      "2001-10-17  20.625  27.789    7.0123  39.889  15.496  15.659   40.930  20.401   \n",
      "2001-10-18  20.765  27.598    6.8325  38.796  15.587  15.280   40.718  19.820   \n",
      "2001-10-19  20.843  27.879    6.6782  37.959  15.563  15.258   40.914  19.538   \n",
      "2001-10-22  20.774  28.387    6.8581  37.692  15.851  15.219   40.973  18.803   \n",
      "2001-10-23  20.911  29.021    6.8668  38.832  15.960  14.911   41.300  18.848   \n",
      "2001-10-24  21.362  29.267    6.9353  40.264  16.075  14.375   41.036  18.937   \n",
      "2001-10-25  21.606  29.638    6.9008  40.521  16.514  15.101   40.826  19.269   \n",
      "2001-10-26  21.895  29.955    7.0295  40.538  16.399  14.752   40.957  18.981   \n",
      "2001-10-29  21.598  29.811    6.7469  40.011  15.960  15.345   40.981  19.315   \n",
      "2001-10-30  22.651  29.838    6.6357  39.155  15.901  14.974   40.455  20.527   \n",
      "2001-10-31  23.059  29.983    6.7039  38.897  15.760  15.445   41.112  20.690   \n",
      "2001-11-01  23.303  30.124    6.8754  39.733  16.001  15.619   41.112  20.895   \n",
      "...            ...     ...       ...     ...     ...     ...      ...     ...   \n",
      "2018-01-05  31.980  20.270  181.4600  88.470  62.378  45.810  127.620  38.400   \n",
      "2018-01-08  32.080  20.090  182.1200  88.720  61.672  46.340  129.170  38.360   \n",
      "2018-01-09  31.910  20.270  181.9600  90.370  61.891  45.710  129.110  38.110   \n",
      "2018-01-10  31.150  20.320  180.5600  91.310  62.746  44.980  129.790  38.340   \n",
      "2018-01-11  31.910  20.610  183.9000  92.520  62.636  44.390  133.460  38.840   \n",
      "2018-01-12  32.260  20.580  184.1800  93.040  62.179  44.010  134.090  39.790   \n",
      "2018-01-16  31.750  20.300  182.5500  93.790  62.129  44.260  132.880  40.000   \n",
      "2018-01-17  31.780  20.300  183.6900  94.760  63.501  44.550  134.010  39.450   \n",
      "2018-01-18  31.290  20.210  183.7200  93.810  63.571  44.100  133.590  39.240   \n",
      "2018-01-19  31.220  20.160  189.0800  94.990  63.839  44.050  133.080  39.470   \n",
      "2018-01-22  31.540  20.100  189.5800  95.210  64.346  44.160  132.860  39.660   \n",
      "2018-01-23  31.650  20.110  188.4300  95.250  64.108  44.460  132.070  40.320   \n",
      "2018-01-24  31.230  20.290  188.3500  95.530  65.092  44.260  131.690  41.570   \n",
      "2018-01-25  24.810  20.150  189.4000  94.700  65.261  45.000  131.290  40.770   \n",
      "2018-01-26  25.330  20.200  192.5000  95.810  65.539  44.790  132.720  41.050   \n",
      "2018-01-29  25.360  20.220  190.8100  95.150  65.430  44.100  130.640  40.080   \n",
      "2018-01-30  25.730  19.900  187.2500  94.760  64.893  44.320  128.110  40.100   \n",
      "2018-01-31  26.440  19.860  188.0000  95.220  65.390  44.750  127.320  40.510   \n",
      "2018-02-01  27.400  20.130  189.1700  97.030  65.510  44.160  119.510  40.360   \n",
      "2018-02-02  27.980  19.950  184.3100  94.960  64.070  43.480  116.470  38.970   \n",
      "2018-02-05  26.120  19.170  179.0100  90.720  58.160  42.730  113.300  37.800   \n",
      "2018-02-06  28.750  19.410  174.8300  92.770  57.280  42.160  112.710  37.630   \n",
      "2018-02-07  29.460  19.530  172.7400  93.580  57.540  42.160  111.910  37.030   \n",
      "2018-02-08  27.910  18.690  165.7300  89.180  55.400  41.770  109.280  36.610   \n",
      "2018-02-09  27.610  18.930  164.0500  91.620  56.130  42.790  106.390  36.760   \n",
      "2018-02-12  27.300  19.070  165.7700  93.300  56.500  42.880  106.310  36.910   \n",
      "2018-02-13  26.600  19.060  165.6300  93.840  58.000  43.050  107.560  37.020   \n",
      "2018-02-14  27.200  19.590  166.0000  97.400  59.550  42.900  106.600  39.000   \n",
      "2018-02-15  27.640  19.380  165.0200  97.670  60.020  43.740  108.310  39.410   \n",
      "2018-02-16  28.230  19.390  165.6000  97.820  59.950  44.200  106.400  39.110   \n",
      "\n",
      "                lmt    tgna   ...         tmo      brk-a   brk-b      pg  \\\n",
      "Date                          ...                                          \n",
      "2001-09-21   32.755  29.588   ...      15.048   62500.00   41.68  26.820   \n",
      "2001-09-24   32.606  30.367   ...      15.488   64000.00   42.46  27.806   \n",
      "2001-09-25   32.881  29.482   ...      15.602   65000.00   43.40  28.423   \n",
      "2001-09-26   32.606  29.018   ...      15.058   67800.00   45.24  28.472   \n",
      "2001-09-27   33.613  29.949   ...      15.244   69750.00   46.30  28.983   \n",
      "2001-09-28   33.958  30.844   ...      15.630   70000.00   46.60  29.144   \n",
      "2001-10-01   33.858  30.073   ...      15.468   70000.00   46.70  28.983   \n",
      "2001-10-02   34.936  30.042   ...      15.630   70000.00   46.74  29.335   \n",
      "2001-10-03   35.239  30.639   ...      16.240   72700.00   48.44  29.321   \n",
      "2001-10-04   35.397  31.283   ...      16.888   71850.00   47.72  28.504   \n",
      "2001-10-05   37.052  31.317   ...      17.189   72400.00   48.00  29.094   \n",
      "2001-10-08   38.122  30.995   ...      16.801   72500.00   48.30  28.921   \n",
      "2001-10-09   36.909  30.915   ...      16.579   73500.00   48.70  29.042   \n",
      "2001-10-10   36.762  31.753   ...      17.913   74950.00   49.86  29.359   \n",
      "2001-10-11   36.010  32.586   ...      18.292   74850.00   49.88  29.066   \n",
      "2001-10-12   35.279  32.428   ...      18.019   73900.00   49.00  28.800   \n",
      "2001-10-15   36.715  33.356   ...      18.059   74800.00   50.00  28.462   \n",
      "2001-10-16   37.144  34.024   ...      18.457   74600.00   49.78  28.401   \n",
      "2001-10-17   36.092  32.726   ...      18.145   74700.00   49.40  27.943   \n",
      "2001-10-18   35.901  32.455   ...      17.352   74900.00   49.64  28.143   \n",
      "2001-10-19   36.996  33.264   ...      17.430   74300.00   49.80  28.727   \n",
      "2001-10-22   37.543  33.717   ...      18.273   74300.00   49.64  29.006   \n",
      "2001-10-23   36.841  33.506   ...      18.184   73600.00   49.00  28.625   \n",
      "2001-10-24   38.582  33.356   ...      18.088   73600.00   49.04  28.583   \n",
      "2001-10-25   37.958  33.018   ...      17.923   73200.00   48.90  28.944   \n",
      "2001-10-26   38.755  33.324   ...      19.268   72500.00   48.38  29.359   \n",
      "2001-10-29   38.037  32.527   ...      18.561   72300.00   48.20  28.542   \n",
      "2001-10-30   37.260  32.328   ...      18.108   70000.00   46.60  29.705   \n",
      "2001-10-31   37.855  32.428   ...      18.310   71200.00   47.08  29.538   \n",
      "2001-11-01   37.647  32.459   ...      18.996   72200.00   47.74  30.418   \n",
      "...             ...     ...   ...         ...        ...     ...     ...   \n",
      "2018-01-05  329.680  14.530   ...     202.390  301525.00  201.42  90.550   \n",
      "2018-01-08  328.160  14.520   ...     202.720  304180.00  202.74  91.026   \n",
      "2018-01-09  330.510  14.460   ...     206.100  304500.00  203.02  90.361   \n",
      "2018-01-10  331.050  14.880   ...     206.290  308350.00  205.61  89.786   \n",
      "2018-01-11  331.130  15.100   ...     208.660  309950.00  206.69  89.468   \n",
      "2018-01-12  336.250  15.040   ...     210.170  315225.00  210.16  88.932   \n",
      "2018-01-16  330.110  15.150   ...     208.010  315261.00  210.29  89.537   \n",
      "2018-01-17  334.860  15.030   ...     211.480  321469.00  214.16  90.510   \n",
      "2018-01-18  333.000  15.030   ...     212.410  320000.00  213.19  90.180   \n",
      "2018-01-19  332.000  15.140   ...     213.510  320238.00  213.25  91.070   \n",
      "2018-01-22  329.000  15.240   ...     215.320  324064.00  215.97  91.890   \n",
      "2018-01-23  328.700  15.150   ...     214.550  322885.00  215.56  89.050   \n",
      "2018-01-24  330.490  15.090   ...     215.320  323480.00  215.61  88.310   \n",
      "2018-01-25  334.720  15.400   ...     217.880  322850.00  215.10  88.340   \n",
      "2018-01-26  344.900  15.590   ...     219.780  325915.00  217.19  87.730   \n",
      "2018-01-29  351.420  15.500   ...     218.810  323499.99  215.46  86.860   \n",
      "2018-01-30  350.390  15.350   ...     214.620  323000.00  214.41  86.950   \n",
      "2018-01-31  354.850  14.470   ...     224.110  323375.05  214.38  86.340   \n",
      "2018-02-01  357.380  14.250   ...     222.360  325900.00  217.25  85.850   \n",
      "2018-02-02  352.660  14.010   ...     217.690  314339.90  209.12  84.250   \n",
      "2018-02-05  336.460  13.500   ...     208.310  295600.00  196.80  81.060   \n",
      "2018-02-06  337.590  13.990   ...     209.480  303000.00  201.24  82.380   \n",
      "2018-02-07  345.430  13.750   ...     207.550  301000.00  200.37  81.840   \n",
      "2018-02-08  334.300  13.280   ...     198.730  288000.00  191.42  80.220   \n",
      "2018-02-09  341.420  13.340   ...     200.180  294140.01  196.02  79.920   \n",
      "2018-02-12  345.810  13.580   ...     204.510  298940.00  198.89  81.330   \n",
      "2018-02-13  350.230  13.760   ...     203.500  297500.00  197.99  81.500   \n",
      "2018-02-14  354.660  14.040   ...     208.310  301005.00  200.54  80.680   \n",
      "2018-02-15  361.000  13.950   ...     210.720  305998.99  203.90  82.410   \n",
      "2018-02-16  360.530  13.780   ...     210.610  306000.00  203.79  82.600   \n",
      "\n",
      "                 eog       hd       au      mck      hpq      tjx  \n",
      "Date                                                               \n",
      "2001-09-21    6.7267   28.305  15.4450   32.051   5.6889   6.7747  \n",
      "2001-09-24    6.4309   30.783  14.8480   32.289   6.1219   6.8337  \n",
      "2001-09-25    6.3165   31.031  14.9640   33.058   6.0882   6.9436  \n",
      "2001-09-26    6.3116   30.389  15.5610   34.293   6.0844   6.9388  \n",
      "2001-09-27    6.4688   31.543  15.3880   35.111   6.1605   6.9342  \n",
      "2001-09-28    6.8556   32.801  15.3970   35.509   6.1033   7.4318  \n",
      "2001-10-01    6.6934   32.329  15.4740   36.127   5.9316   7.4817  \n",
      "2001-10-02    6.8509   33.382  16.0430   36.363   5.7987   7.6780  \n",
      "2001-10-03    7.0030   34.903  15.6770   36.555   6.0844   7.9289  \n",
      "2001-10-04    7.3756   33.501  15.7730   36.269   6.0844   7.8922  \n",
      "2001-10-05    7.4568   33.690  16.0240   36.165   6.2556   7.8238  \n",
      "2001-10-08    7.5856   32.801  16.1110   35.805   6.4453   7.6229  \n",
      "2001-10-09    7.6190   32.399  15.7160   35.976   6.3577   7.4817  \n",
      "2001-10-10    8.0575   34.373  15.7350   35.909   6.4648   7.8922  \n",
      "2001-10-11    8.0528   36.844  15.1460   34.227   6.8829   7.7418  \n",
      "2001-10-12    8.0575   35.629  15.6860   34.293   6.9780   7.7918  \n",
      "2001-10-15    7.8050   35.016  15.9280   35.015   6.8902   7.8968  \n",
      "2001-10-16    8.0864   35.581  15.8510   35.519   7.0352   7.9744  \n",
      "2001-10-17    8.0673   34.631  16.1690   35.043   6.8488   8.0748  \n",
      "2001-10-18    7.8714   34.793  15.5810   34.311   6.6928   7.8968  \n",
      "2001-10-19    8.0673   34.544  15.0500   34.283   6.9477   8.0017  \n",
      "2001-10-22    8.1577   34.151  15.0790   35.130   6.9591   7.9471  \n",
      "2001-10-23    8.1340   34.492  14.9640   36.594   6.8139   7.8425  \n",
      "2001-10-24    8.2772   34.363  15.1270   36.165   6.8523   7.8238  \n",
      "2001-10-25    8.7492   34.577  15.5900   36.516   6.8979   7.9062  \n",
      "2001-10-26    8.9449   34.443  15.8890   37.399   6.7875   7.9560  \n",
      "2001-10-29    8.9927   33.014  15.6770   37.059   6.6162   7.6459  \n",
      "2001-10-30    8.4445   32.140  16.0240   34.816   6.4530   7.3950  \n",
      "2001-10-31    8.3921   32.680  16.0050   34.748   6.3997   7.6323  \n",
      "2001-11-01    8.5347   32.825  16.0630   33.779   6.5782   7.7372  \n",
      "...              ...      ...      ...      ...      ...      ...  \n",
      "2018-01-05  112.0100  192.500  10.6700  157.160  21.7500  76.8330  \n",
      "2018-01-08  112.5400  192.040  10.5600  159.150  21.8400  75.3400  \n",
      "2018-01-09  111.5500  193.100  10.4300  160.640  21.8100  75.1900  \n",
      "2018-01-10  111.8500  191.800  10.6700  160.670  22.0500  75.9570  \n",
      "2018-01-11  114.9700  194.680  10.6300  162.300  22.4100  76.5650  \n",
      "2018-01-12  115.5300  196.420  11.0700  166.250  22.9200  77.9590  \n",
      "2018-01-16  113.3900  196.310  11.1200  170.660  22.8800  76.2760  \n",
      "2018-01-17  113.5300  199.820  11.0400  172.830  23.4600  76.2660  \n",
      "2018-01-18  114.2400  198.330  10.8500  171.780  23.2900  76.9330  \n",
      "2018-01-19  114.3700  201.330  10.9100  170.360  23.7000  78.5660  \n",
      "2018-01-22  116.8200  204.460  11.0000  172.960  23.8500  79.1340  \n",
      "2018-01-23  117.8400  204.900  11.2900  170.600  23.8100  78.9950  \n",
      "2018-01-24  118.4700  206.220  11.6800  174.580  23.6600  78.9250  \n",
      "2018-01-25  117.4500  205.370  11.7300  175.200  23.3200  78.9350  \n",
      "2018-01-26  117.7600  207.230  11.7000  176.720  23.9100  80.1800  \n",
      "2018-01-29  116.5800  204.920  11.2400  176.330  23.8100  80.4980  \n",
      "2018-01-30  115.1700  201.810  11.1200  171.750  23.4400  80.0200  \n",
      "2018-01-31  115.0000  200.900  11.2800  168.880  23.3200  79.9900  \n",
      "2018-02-01  116.5200  199.900  11.2400  166.270  23.3000  79.7710  \n",
      "2018-02-02  112.8300  193.970  10.6700  159.210  22.4800  78.1480  \n",
      "2018-02-05  109.5600  183.110  10.4900  152.390  21.2900  75.7480  \n",
      "2018-02-06  108.2700  191.040  10.3500  152.520  21.4300  75.6780  \n",
      "2018-02-07  105.7800  191.290  10.2699  152.830  21.2100  75.8870  \n",
      "2018-02-08  101.0400  181.220   9.9600  150.230  19.9200  74.0550  \n",
      "2018-02-09  100.0700  184.120   9.6600  148.930  20.1100  75.3300  \n",
      "2018-02-12  103.1400  184.060  10.2200  149.020  20.4100  75.3990  \n",
      "2018-02-13  102.4700  183.720  10.2000  146.180  20.5800  75.2400  \n",
      "2018-02-14  106.7600  184.690  10.7200  148.770  21.2900  76.5700  \n",
      "2018-02-15  107.6900  185.270  10.7400  148.700  21.4500  77.9800  \n",
      "2018-02-16  107.6400  186.970  10.4500  150.500  21.4000  77.8800  \n",
      "\n",
      "[4131 rows x 256 columns]\n"
     ]
    }
   ],
   "source": [
    "# Load the data\n",
    "data_nyse = pd.read_csv(data_path, index_col=\"Date\")\n",
    "# Convert data index to datetime\n",
    "data_nyse.index = pd.to_datetime(data_nyse.index)\n",
    "# Print the data for a quick check\n",
    "print(data_nyse)"
   ]
  },
  {
   "cell_type": "code",
   "execution_count": 27,
   "metadata": {
    "collapsed": false
   },
   "outputs": [],
   "source": [
    "# Get the returns for every ndays_rebal and select only every ndays_rebal-th date\n",
    "data_returns = data_nyse.pct_change(ndays_rebal).ix[::ndays_rebal, :]\n",
    "data_returns = data_returns.shift(-1)"
   ]
  },
  {
   "cell_type": "markdown",
   "metadata": {},
   "source": [
    "## Wealth factor\n",
    "The following function computes the wealth factor of a strategy determined by a set of weigths $q_{i, t}$. Let $x_{i, t}$ be the returns, $N$ the number of assets and $n$ the number of periods, the wealth factor is given by :\n",
    "$$ \\prod_{t=1}^n \\sum_{i=1}^N (1 + x_{i, t}) q_{i, t} $$"
   ]
  },
  {
   "cell_type": "code",
   "execution_count": 65,
   "metadata": {
    "collapsed": true
   },
   "outputs": [],
   "source": [
    "def wealth_factor(x, q, n):\n",
    "    \"\"\"\n",
    "    Compute the wealth factor for a given strategy q\n",
    "    \n",
    "    Args:\n",
    "        x (pandas.core.frame.DataFrame) : the dataframe of returns\n",
    "        q (pandas.core.frame.DataFrame) : the weights for the strategy\n",
    "        n (int) : number of periods to compute the wealth factor on\n",
    "    Returns:\n",
    "        float. The wealth factor for the strategy q\n",
    "    \"\"\"\n",
    "    wealth_coefs = ((1 + x) * q).sum(axis=1)\n",
    "    log_wealth_coefs = wealth_coefs.apply(np.log)\n",
    "    log_wealth_factor = log_wealth_coefs.cumsum()\n",
    "    return np.exp(log_wealth_factor)"
   ]
  },
  {
   "cell_type": "markdown",
   "metadata": {},
   "source": [
    "## Exp weights coefs\n",
    "For a given set of weights at time $t-1$, will compute the vector of actualization of the weights at time $t$ which is given by the components :\n",
    "$$ \\frac{p_{i, t} \\exp \\left( \\frac{\\eta x_{i, t}} {p_t x_t} \\right)}{\\sum_{j=1}^N p_{j, t} \\exp \\left( \\frac{\\eta x_{j, t}} {p_t x_t} \\right)} $$"
   ]
  },
  {
   "cell_type": "code",
   "execution_count": 29,
   "metadata": {
    "collapsed": true
   },
   "outputs": [],
   "source": [
    "def exp_weights(pvec, xvec, eta):\n",
    "    \"\"\"\n",
    "    Computes the vector of actualization of the weights for the EG strategy\n",
    "    \n",
    "    Args:\n",
    "        pvec (pandas.core.series.Series) : the vector of previous weights\n",
    "        xvec (pandas.core.series.Series) : the vector of previous returns\n",
    "        eta (float) : eta parameter\n",
    "    Returns:\n",
    "        pandas.core.series.Series. The vector of actualization of weights for the EG strategy\n",
    "    \"\"\"\n",
    "    norm_coef = (pvec * xvec).sum()\n",
    "    wvec = pd.Series(index=pvec.index)\n",
    "    for i in pvec.index:\n",
    "        wvec[i] = pvec[i] * np.exp (eta * xvec[i] / norm_coef)\n",
    "    return wvec / wvec.sum()"
   ]
  },
  {
   "cell_type": "code",
   "execution_count": 30,
   "metadata": {
    "collapsed": false
   },
   "outputs": [
    {
     "name": "stdout",
     "output_type": "stream",
     "text": [
      "nwl     0.046808\n",
      "fhn     0.064074\n",
      "cmi     0.279531\n",
      "cma     0.252653\n",
      "wfc     0.101543\n",
      "cms     0.069617\n",
      "ups     0.106115\n",
      "nem     0.003594\n",
      "lmt     0.022483\n",
      "tgna    0.053581\n",
      "dtype: float64\n"
     ]
    }
   ],
   "source": [
    "# Test for exp_weights\n",
    "x = data_returns.iloc[1, 0:10]\n",
    "p = pd.Series(index=x.index, data=1/x.shape[0])\n",
    "w = exp_weights(p, x, 0.5)\n",
    "print(w)"
   ]
  },
  {
   "cell_type": "code",
   "execution_count": 62,
   "metadata": {
    "collapsed": true
   },
   "outputs": [],
   "source": [
    "def weights_eg(xtab, eta, pinit):\n",
    "    \"\"\"\n",
    "    Compute the weights for the EG strategy\n",
    "    \n",
    "    Args:\n",
    "        xtab (pandas.core.frame.DataFrame) : the data frame of returns\n",
    "        eta (float) : the eta parameter\n",
    "        pinit (pandas.core.series.Series) : the series of initial weights, we must have pinit.index = xtab.columns\n",
    "    \"\"\"\n",
    "    wtab = pd.DataFrame(index=xtab.index, columns=xtab.columns)\n",
    "    for t in range(0, w.shape[0]):\n",
    "        if t==0:\n",
    "            wtab.iloc[t, :] = pinit\n",
    "        else :\n",
    "            coefs = exp_weights(wtab.iloc[t-1, :], xtab.iloc[t-1, :], eta)\n",
    "            wtab.iloc[t, :] = coefs\n",
    "    return wtab"
   ]
  },
  {
   "cell_type": "code",
   "execution_count": 64,
   "metadata": {
    "collapsed": false
   },
   "outputs": [
    {
     "data": {
      "image/png": "[encoded data removed]",
      "text/plain": [
       "<matplotlib.figure.Figure at 0x2ac44f7a198>"
      ]
     },
     "metadata": {},
     "output_type": "display_data"
    }
   ],
   "source": [
    "# Test for weights_eg\n",
    "x = data_returns.iloc[:50, :5]\n",
    "pinit = pd.Series(index=x.columns, data=1/len(x.columns))\n",
    "w = weights_eg(x, 0.01, pinit)\n",
    "w.plot()\n",
    "plt.show()"
   ]
  },
  {
   "cell_type": "code",
   "execution_count": 69,
   "metadata": {
    "collapsed": false
   },
   "outputs": [
    {
     "data": {
      "image/png": "[encoded data removed]",
      "text/plain": [
       "<matplotlib.figure.Figure at 0x2ac44fa1358>"
      ]
     },
     "metadata": {},
     "output_type": "display_data"
    }
   ],
   "source": [
    "# Test for wealth factor on the EG strategy\n",
    "w_fact = wealth_factor(x, w, 10)\n",
    "w_fact.plot()\n",
    "plt.show()"
   ]
  },
  {
   "cell_type": "code",
   "execution_count": null,
   "metadata": {
    "collapsed": true
   },
   "outputs": [],
   "source": []
  }
 ],
 "metadata": {
  "kernelspec": {
   "display_name": "Python 3",
   "language": "python",
   "name": "python3"
  },
  "language_info": {
   "codemirror_mode": {
    "name": "ipython",
    "version": 3
   },
   "file_extension": ".py",
   "mimetype": "text/x-python",
   "name": "python",
   "nbconvert_exporter": "python",
   "pygments_lexer": "ipython3",
   "version": "3.5.4"
  }
 },
 "nbformat": 4,
 "nbformat_minor": 0
}
