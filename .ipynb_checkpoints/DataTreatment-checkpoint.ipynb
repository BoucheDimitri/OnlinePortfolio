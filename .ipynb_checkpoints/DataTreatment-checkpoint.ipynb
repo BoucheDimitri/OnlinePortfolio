{
 "cells": [
  {
   "cell_type": "code",
   "execution_count": 1,
   "metadata": {},
   "outputs": [],
   "source": [
    "import numpy as np\n",
    "import pandas as pd\n",
    "import os"
   ]
  },
  {
   "cell_type": "code",
   "execution_count": 5,
   "metadata": {},
   "outputs": [],
   "source": [
    "data_path = \"/home/dimitribouche/Bureau/ENSAE/OnlineLearning/NYSE\""
   ]
  },
  {
   "cell_type": "code",
   "execution_count": 41,
   "metadata": {},
   "outputs": [],
   "source": [
    "def load_stocks(path):\n",
    "    stock_data = dict()\n",
    "    for stock in os.listdir(path):\n",
    "        name = stock.split(\".\")[0]\n",
    "        try:\n",
    "            stock_data[name] = pd.read_table(path + \"/\" + stock, sep=\",\", index_col=0)[\"Close\"]\n",
    "        except pd.errors.EmptyDataError:\n",
    "            continue\n",
    "    return stock_data   "
   ]
  },
  {
   "cell_type": "code",
   "execution_count": null,
   "metadata": {},
   "outputs": [],
   "source": [
    "nyse_stocks = load_stocks(data_path)"
   ]
  },
  {
   "cell_type": "code",
   "execution_count": 45,
   "metadata": {},
   "outputs": [],
   "source": [
    "def consolidate_stocks(stock_data):\n",
    "    for key in stock_data.keys():\n",
    "        if first :\n",
    "            date_union = stock_data[key].index\n",
    "            first = False\n",
    "        else :\n",
    "            date_union = date_union.union(stock_data[key].index)\n",
    "    return conso\n",
    "        "
   ]
  }
 ],
 "metadata": {
  "kernelspec": {
   "display_name": "Python 2",
   "language": "python",
   "name": "python2"
  },
  "language_info": {
   "codemirror_mode": {
    "name": "ipython",
    "version": 2
   },
   "file_extension": ".py",
   "mimetype": "text/x-python",
   "name": "python",
   "nbconvert_exporter": "python",
   "pygments_lexer": "ipython2",
   "version": "2.7.12"
  }
 },
 "nbformat": 4,
 "nbformat_minor": 2
}
