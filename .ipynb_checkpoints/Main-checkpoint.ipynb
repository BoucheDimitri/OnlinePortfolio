{
 "cells": [
  {
   "cell_type": "code",
   "execution_count": null,
   "metadata": {
    "collapsed": true
   },
   "outputs": [],
   "source": [
    "import numpy as np\n",
    "import pandas as pd\n",
    "import matplotlib.pyplot as plt\n",
    "import matplotlib\n",
    "import itertools\n",
    "from random import shuffle"
   ]
  },
  {
   "cell_type": "code",
   "execution_count": null,
   "metadata": {
    "collapsed": true
   },
   "outputs": [],
   "source": [
    "plt.style.use('seaborn-talk')\n",
    "matplotlib.rcParams.update({'font.size': 15})"
   ]
  },
  {
   "cell_type": "code",
   "execution_count": null,
   "metadata": {
    "collapsed": false
   },
   "outputs": [],
   "source": [
    "print(plt.style.available)"
   ]
  },
  {
   "cell_type": "code",
   "execution_count": null,
   "metadata": {
    "collapsed": false,
    "scrolled": true
   },
   "outputs": [],
   "source": [
    "# Path to the cleaned data\n",
    "data_path=\"C://Users//Dimitri//Desktop//ENSAE3A//Apprentissage en ligne//OnlinePortfolio//TreatedData//DataNyse.csv\"\n",
    "# Location to use to save outputs\n",
    "output_path = \"C://Users//Dimitri//Desktop//ENSAE3A//Apprentissage en ligne//OnlinePortfolio//Outputs//\"\n",
    "# Frequence of rebalancing the portfolio\n",
    "ndays_rebal = 5\n",
    "# Eta parameter\n",
    "eta = 2"
   ]
  },
  {
   "cell_type": "code",
   "execution_count": null,
   "metadata": {
    "collapsed": false
   },
   "outputs": [],
   "source": [
    "# Load the data\n",
    "data_nyse = pd.read_csv(data_path, index_col=\"Date\")\n",
    "# Convert data index to datetime\n",
    "data_nyse.index = pd.to_datetime(data_nyse.index)\n",
    "# Print the data for a quick check\n",
    "print(data_nyse)"
   ]
  },
  {
   "cell_type": "code",
   "execution_count": null,
   "metadata": {
    "collapsed": false
   },
   "outputs": [],
   "source": [
    "# Get the returns for every ndays_rebal and select only every ndays_rebal-th date\n",
    "data_returns = data_nyse.pct_change(ndays_rebal).ix[::ndays_rebal, :]\n",
    "data_returns = data_returns.shift(-1)\n",
    "data_returns.dropna(how=\"any\", axis=0, inplace=True)\n",
    "print(data_returns.shape)"
   ]
  },
  {
   "cell_type": "markdown",
   "metadata": {},
   "source": [
    "## Wealth factor\n",
    "The following function computes the wealth factor of a strategy determined by a set of weigths $q_{i, t}$. Let $x_{i, t}$ be the returns, $N$ the number of assets and $n$ the number of periods, the wealth factor is given by :\n",
    "$$ \\prod_{t=1}^n \\sum_{i=1}^N x_{i, t} q_{i, t} $$"
   ]
  },
  {
   "cell_type": "code",
   "execution_count": null,
   "metadata": {
    "collapsed": true
   },
   "outputs": [],
   "source": [
    "def wealth_factor(q, x, n):\n",
    "    \"\"\"\n",
    "    Compute the wealth factor for a given strategy q\n",
    "    \n",
    "    Args:\n",
    "        x (pandas.core.frame.DataFrame) : the dataframe of 1 + returns\n",
    "        q (pandas.core.frame.DataFrame) : the weights for the strategy\n",
    "        n (int) : number of periods to compute the wealth factor on\n",
    "    Returns:\n",
    "        float. The wealth factor for the strategy q\n",
    "    \"\"\"\n",
    "    wealth_coefs = (x * q).sum(axis=1)\n",
    "    log_wealth_coefs = wealth_coefs.apply(np.log)\n",
    "    log_wealth_factor = log_wealth_coefs.cumsum()\n",
    "    return np.exp(log_wealth_factor)"
   ]
  },
  {
   "cell_type": "markdown",
   "metadata": {},
   "source": [
    "## Internal regret"
   ]
  },
  {
   "cell_type": "code",
   "execution_count": null,
   "metadata": {
    "collapsed": true
   },
   "outputs": [],
   "source": [
    "def switched_strategy(pvec, i, j):\n",
    "    \"\"\"\n",
    "    Compute the i to j transformed strategy weight vector\n",
    "    \n",
    "    Args:\n",
    "        pvec (pandas.core.series.Series) : the original weight vector\n",
    "        i (str) : the stock which weight should be allocated to j\n",
    "        j (str) : the stock keeping its weight and getting i's moreover\n",
    "    Returns:\n",
    "        pandas.core.series.Series. The modified weight vector\n",
    "    \"\"\"\n",
    "    switched = pvec.copy()\n",
    "    switched[j] += switched[i] \n",
    "    switched[i] = 0\n",
    "    return switched"
   ]
  },
  {
   "cell_type": "code",
   "execution_count": null,
   "metadata": {
    "collapsed": true
   },
   "outputs": [],
   "source": [
    "def no_switch_regret(pvec, xvec, i, j):\n",
    "    \"\"\"\n",
    "    Compute the i to j component to regret for a single vector\n",
    "    \n",
    "    Args:\n",
    "        pvec (pandas.core.series.Series) : the original weight vector\n",
    "        xvec (pandas.core.series.Series) : the vector of 1 + returns\n",
    "        i (str) : the stock which weight should be allocated to j\n",
    "        j (str) : the stock keeping its weight and getting i's moreover\n",
    "    Returns:\n",
    "        float. The regret component\n",
    "    \"\"\"\n",
    "    switched = switched_strategy(pvec, i, j)\n",
    "    return np.log((switched * xvec).sum()) -  np.log((pvec * xvec).sum())"
   ]
  },
  {
   "cell_type": "code",
   "execution_count": null,
   "metadata": {
    "collapsed": true
   },
   "outputs": [],
   "source": [
    "def pairs_of_stocks(p):\n",
    "    stocks_pairs = list(itertools.product(p.columns, p.columns))\n",
    "    stocks_pairs_str = []\n",
    "    for pair in stocks_pairs:\n",
    "        if pair[0] != pair[1]:\n",
    "            stocks_pairs_str.append(pair[0] + \"/\" + pair[1])\n",
    "    return stocks_pairs_str"
   ]
  },
  {
   "cell_type": "code",
   "execution_count": null,
   "metadata": {
    "collapsed": false
   },
   "outputs": [],
   "source": [
    "def no_switch_regret_tab(p, x):\n",
    "    stocks_pairs_str = pairs_of_stocks(p)\n",
    "    regret_tab = pd.DataFrame(index=p.index, columns=stocks_pairs_str)\n",
    "    for t in p.index:\n",
    "        for pair in stocks_pairs_str :\n",
    "            stock1, stock2 = pair.split(\"/\")[0], pair.split(\"/\")[1]\n",
    "            regret_tab.loc[t, pair] = no_switch_regret(p.loc[t, :], x.loc[t, :], stock1, stock2)\n",
    "    return regret_tab"
   ]
  },
  {
   "cell_type": "code",
   "execution_count": null,
   "metadata": {
    "collapsed": true
   },
   "outputs": [],
   "source": [
    "def internal_regret_tab(p, x):\n",
    "    r_tab = no_switch_regret_tab(p, x).cumsum().max(axis=1)\n",
    "    return r_tab"
   ]
  },
  {
   "cell_type": "markdown",
   "metadata": {},
   "source": [
    "## Exp weights coefs\n",
    "For a given set of weights at time $t-1$, will compute the vector of actualization of the weights at time $t$ which is given by the components :\n",
    "$$ \\frac{p_{i, t} \\exp \\left( \\frac{\\eta x_{i, t}} {p_t x_t} \\right)}{\\sum_{j=1}^N p_{j, t} \\exp \\left( \\frac{\\eta x_{j, t}} {p_t x_t} \\right)} $$"
   ]
  },
  {
   "cell_type": "code",
   "execution_count": null,
   "metadata": {
    "collapsed": true
   },
   "outputs": [],
   "source": [
    "def exp_weights(pvec, xvec, eta):\n",
    "    \"\"\"\n",
    "    Computes the vector of actualization of the weights for the EG strategy\n",
    "    \n",
    "    Args:\n",
    "        pvec (pandas.core.series.Series) : the vector of previous weights\n",
    "        xvec (pandas.core.series.Series) : the vector of previous 1 + returns\n",
    "        eta (float) : eta parameter\n",
    "    Returns:\n",
    "        pandas.core.series.Series. The vector of actualization of weights for the EG strategy\n",
    "    \"\"\"\n",
    "    norm_coef = (pvec * xvec).sum()\n",
    "    wvec = pd.Series(index=pvec.index)\n",
    "    for i in pvec.index:\n",
    "        wvec[i] = pvec[i] * np.exp (eta * xvec[i] / norm_coef)\n",
    "    return wvec / wvec.sum()"
   ]
  },
  {
   "cell_type": "code",
   "execution_count": null,
   "metadata": {
    "collapsed": true
   },
   "outputs": [],
   "source": [
    "def weights_eg(xtab, eta, pinit):\n",
    "    \"\"\"\n",
    "    Compute the weights for the EG strategy\n",
    "    \n",
    "    Args:\n",
    "        xtab (pandas.core.frame.DataFrame) : the data frame of returns\n",
    "        eta (float) : the eta parameter\n",
    "        pinit (pandas.core.series.Series) : the series of initial weights, we must have pinit.index = xtab.columns\n",
    "    \"\"\"\n",
    "    wtab = pd.DataFrame(index=xtab.index, columns=xtab.columns)\n",
    "    for t in range(0, wtab.shape[0]):\n",
    "        if t==0:\n",
    "            wtab.iloc[t, :] = pinit\n",
    "        else :\n",
    "            coefs = exp_weights(wtab.iloc[t-1, :], xtab.iloc[t-1, :], eta)\n",
    "            wtab.iloc[t, :] = coefs\n",
    "    return wtab"
   ]
  },
  {
   "cell_type": "code",
   "execution_count": null,
   "metadata": {
    "collapsed": false
   },
   "outputs": [],
   "source": [
    "# Test for weights_eg\n",
    "x = 1 + data_returns.iloc[:, 10:15]\n",
    "pinit = pd.Series(index=x.columns, data=1/len(x.columns))\n",
    "w = weights_eg(x, 1, pinit)\n",
    "fig, ax = plt.subplots(1, 1, figsize=(10.0, 6.5))\n",
    "w.plot(ax=ax)\n",
    "plt.title(\"EG weights example - monthly rebalancing\")\n",
    "plt.ylabel(\"weight\")\n",
    "fig.savefig(output_path + \"EG_weights_example.svg\")\n",
    "plt.show()"
   ]
  },
  {
   "cell_type": "code",
   "execution_count": null,
   "metadata": {
    "collapsed": false
   },
   "outputs": [],
   "source": [
    "# Test for wealth factor on the EG strategy\n",
    "w_fact = wealth_factor(x, w, 10)\n",
    "w_fact.plot()\n",
    "plt.show()"
   ]
  },
  {
   "cell_type": "code",
   "execution_count": null,
   "metadata": {
    "collapsed": false
   },
   "outputs": [],
   "source": [
    "# Test for internal regret\n",
    "ir = internal_regret_tab(w, x)\n",
    "ir.plot()\n",
    "plt.show()"
   ]
  },
  {
   "cell_type": "markdown",
   "metadata": {},
   "source": [
    "## Small external regret to small internal regret conversion"
   ]
  },
  {
   "cell_type": "code",
   "execution_count": null,
   "metadata": {
    "collapsed": true
   },
   "outputs": [],
   "source": [
    "def induced_matrix(delta):\n",
    "    \"\"\"\n",
    "    Generate the A matrix from the article from a distribution on the pairs of stocks\n",
    "    \n",
    "    Args:\n",
    "        delta (pandas.core.series.Series) : a distribution on the pairs of stocks\n",
    "    Returns:\n",
    "        pandas.core.frame.DataFrame :  the A matrix as a pandas DataFrame\n",
    "    \"\"\"\n",
    "    stocks_list = []\n",
    "    for pair in delta.index:\n",
    "        stocks_list.append(pair.split(\"/\")[0])\n",
    "        stocks_list.append(pair.split(\"/\")[1])\n",
    "    stocks = np.unique(stocks_list)  \n",
    "    A = pd.DataFrame(index=stocks, columns=stocks)\n",
    "    for m in stocks:\n",
    "        for i in stocks:\n",
    "            if i != m:\n",
    "                A.loc[m, i] = delta.loc[m + \"/\" + i]\n",
    "    for m in stocks:\n",
    "        A.loc[m, m] = - A.loc[:, m].sum()\n",
    "    return A"
   ]
  },
  {
   "cell_type": "code",
   "execution_count": null,
   "metadata": {
    "collapsed": true
   },
   "outputs": [],
   "source": [
    "def get_kernel_index(eig_vals):\n",
    "    \"\"\"\n",
    "    From a vector of complex eigen values, find the indices of those corresponding to 0 and return their index\n",
    "    \n",
    "    Args:\n",
    "        eig_vals (numpy.ndarray) : the vector of complex  eigen values\n",
    "    Returns:\n",
    "        numpy.ndarray. The array of indexes for the null eigen values\n",
    "    \"\"\"\n",
    "    eig_vals_im, eig_vals_real = np.imag(eig_vals), np.real(eig_vals)\n",
    "    eig_vals_im.setflags(write=1)\n",
    "    eig_vals_real.setflags(write=1)\n",
    "    eig_vals_im[abs(eig_vals_im) < 1e-6] = 0\n",
    "    eig_vals_real[abs(eig_vals_real) < 1e-6] = 0\n",
    "    ind_im = np.argwhere(eig_vals_im == 0)\n",
    "    ind_real = np.argwhere(eig_vals_real == 0)\n",
    "    null_ind = np.intersect1d(ind_im, ind_real)\n",
    "    return null_ind"
   ]
  },
  {
   "cell_type": "code",
   "execution_count": null,
   "metadata": {
    "collapsed": true
   },
   "outputs": [],
   "source": [
    "def choose_proba_distrib(vecs):\n",
    "    \"\"\"\n",
    "    Choose a probability distribution among a set of kernel eigen vectors\n",
    "    \n",
    "    Args:\n",
    "        vecs (numpy.ndarray) : the kernel generating vectors stacked in columns\n",
    "    Returns:\n",
    "        numpy.ndarray : the selected kernel vector\n",
    "    \"\"\"\n",
    "    candidates = []\n",
    "    for i in range(0, vecs.shape[1]):\n",
    "        if np.allclose(np.imag(vecs[:, i]), 0):\n",
    "            if np.all(vecs[:, i] >= 0):\n",
    "                candidates.append(np.real(vecs[:, i]))\n",
    "            elif np.all(vecs[:, i] <= 0):\n",
    "                candidates.append(-np.real(vecs[:, i]))       \n",
    "    if len(candidates) >= 1:\n",
    "        return candidates[0] / candidates[0].sum()\n",
    "    else :\n",
    "        print(\"No probability distribution in eigen vector\")\n",
    "        raise np.linalg.LinAlgError"
   ]
  },
  {
   "cell_type": "code",
   "execution_count": null,
   "metadata": {
    "collapsed": true
   },
   "outputs": [],
   "source": [
    "def fixed_point_proba(A):\n",
    "    \"\"\"\n",
    "    Find a probability vector in the kernel of A if it exists\n",
    "    \n",
    "    Args:\n",
    "        A (pandas.core.frame.DataFrame) : the A matrix\n",
    "    Returns:\n",
    "        pandas.core.series.Series. The kernel probability distribution\n",
    "    \"\"\"\n",
    "    for col in A.columns:\n",
    "        A.loc[:, col] = pd.to_numeric(A.loc[:, col])\n",
    "    Amat = A.as_matrix()\n",
    "    eig_vals, eig_vecs = np.linalg.eig(Amat)\n",
    "    null_ind = get_kernel_index(eig_vals)\n",
    "    kernel_vecs = eig_vecs[:, null_ind]\n",
    "    kernel_vec_pd = pd.Series(index=A.columns, data=choose_proba_distrib(kernel_vecs))\n",
    "    return kernel_vec_pd"
   ]
  },
  {
   "cell_type": "code",
   "execution_count": null,
   "metadata": {
    "collapsed": true
   },
   "outputs": [],
   "source": [
    "def induced_portfolio(delta):\n",
    "    \"\"\"\n",
    "    Induce portfolio on the assets from proba distribution on the pairs of assets\n",
    "    \n",
    "    Args:\n",
    "        delta (pandas.core.series.Series) : a distribution on the pairs of stocks\n",
    "    Returns:\n",
    "        pandas.core.series.Series. the induced probability distribution on the stocks\n",
    "    \"\"\"\n",
    "    A = induced_matrix(delta)\n",
    "    return fixed_point_proba(A)"
   ]
  },
  {
   "cell_type": "markdown",
   "metadata": {},
   "source": [
    "## BP1EXP and BP1POL"
   ]
  },
  {
   "cell_type": "code",
   "execution_count": null,
   "metadata": {
    "collapsed": true
   },
   "outputs": [],
   "source": [
    "def delta_init(xtab) : \n",
    "    pairs_index = pairs_of_stocks(xtab)\n",
    "    delta = pd.Series(data=1 / len(pairs_index), index=pairs_index)\n",
    "    return delta "
   ]
  },
  {
   "cell_type": "code",
   "execution_count": null,
   "metadata": {
    "collapsed": true
   },
   "outputs": [],
   "source": [
    "def delta_update_exp(delta_prev, pvec, xvec, eta):\n",
    "    norm_coef = 0\n",
    "    delta = pd.Series(index=delta_prev.index)\n",
    "    for pair in delta_prev.index:\n",
    "        i, j = pair.split(\"/\")[0], pair.split(\"/\")[1]\n",
    "        p_dot_x = (pvec * xvec).sum()\n",
    "        num = np.exp(- eta * pvec.loc[i] * ((xvec[j] / p_dot_x) - (xvec[i] / p_dot_x)))\n",
    "        delta.loc[pair] = delta_prev.loc[pair] * num\n",
    "        norm_coef += delta_prev.loc[pair] * num\n",
    "    delta *= 1 / norm_coef\n",
    "    return delta"
   ]
  },
  {
   "cell_type": "code",
   "execution_count": null,
   "metadata": {
    "collapsed": false
   },
   "outputs": [],
   "source": [
    "# Test for delta_update_exp\n",
    "delta0 = delta_init(x)\n",
    "delta1 = delta_update_exp(delta0, w.iloc[0, :], x.iloc[0, :], 2)\n",
    "print(delta1)"
   ]
  },
  {
   "cell_type": "code",
   "execution_count": null,
   "metadata": {
    "collapsed": false
   },
   "outputs": [],
   "source": [
    "# Test for induced_matrix\n",
    "amat = induced_matrix(delta1)\n",
    "print(amat)"
   ]
  },
  {
   "cell_type": "code",
   "execution_count": null,
   "metadata": {
    "collapsed": false
   },
   "outputs": [],
   "source": [
    "# Test for induced_portfolio\n",
    "induced = induced_portfolio(delta1)\n",
    "print(induced)"
   ]
  },
  {
   "cell_type": "code",
   "execution_count": null,
   "metadata": {
    "collapsed": true
   },
   "outputs": [],
   "source": [
    "def delta_exp(xtab, eta):\n",
    "    delta0 = delta_init(xtab)\n",
    "    delta_tab = pd.DataFrame(index=xtab.index, columns=delta0.index)\n",
    "    ptab = pd.DataFrame(index=xtab.index, columns=xtab.columns)\n",
    "    delta_tab.iloc[0, :] = delta0\n",
    "    ptab.iloc[0, :] = induced_portfolio(delta_tab.iloc[0, :])\n",
    "    for t in range(1, xtab.shape[0]):\n",
    "        delta_tab.iloc[t, :] = delta_update_exp(delta_tab.iloc[t-1, :], ptab.iloc[t-1, :], xtab.iloc[t-1, :], eta)\n",
    "        ptab.iloc[t, :] = induced_portfolio(delta_tab.iloc[t, :])\n",
    "    return delta_tab, ptab"
   ]
  },
  {
   "cell_type": "code",
   "execution_count": null,
   "metadata": {
    "collapsed": true
   },
   "outputs": [],
   "source": [
    "# Choice of stocks\n",
    "x = 1 + data_returns.iloc[:200, 50:55]"
   ]
  },
  {
   "cell_type": "code",
   "execution_count": null,
   "metadata": {
    "collapsed": false
   },
   "outputs": [],
   "source": [
    "# Test for delta_exp\n",
    "eta1 = 2\n",
    "delta, p_bp1exp = delta_exp(x, eta1)"
   ]
  },
  {
   "cell_type": "code",
   "execution_count": null,
   "metadata": {
    "collapsed": false
   },
   "outputs": [],
   "source": [
    "# Comparison between EG and BP1EXP\n",
    "pinit = pd.Series(index=x.columns, data=1/len(x.columns))\n",
    "p_eg = weights_eg(x, eta1, pinit)\n",
    "\n",
    "# Comparison of weights\n",
    "fig1, axes = plt.subplots(3, 1, figsize=(10.0, 13.0), sharex=True)\n",
    "p_eg.plot(ax=axes[0])\n",
    "axes[0].set_title(\"EG weights\")\n",
    "p_bp1exp.plot(ax=axes[1])\n",
    "axes[1].set_title(\"BP1EXP weights\")\n",
    "(p_eg - p_bp1exp).plot(ax=axes[2])\n",
    "axes[2].set_title(\"EG - BP1EXP\")\n",
    "fig1.savefig(output_path + \"Weights_example.svg\")\n",
    "plt.show()\n",
    "\n",
    "#Comparison of wealth factor\n",
    "plt.figure()\n",
    "wfact_eg = wealth_factor(p_eg, x, 10)\n",
    "wfact_bp1exp = wealth_factor(p_bp1exp, x, 10)\n",
    "wfact_bp1exp.plot(label=\"BP1EXP\")\n",
    "wfact_eg.plot(label=\"EG\")\n",
    "plt.legend()\n",
    "plt.title(\"Wealth factor comparison\")\n",
    "plt.show()\n",
    "\n",
    "# Comparison of internal regret\n",
    "plt.figure()\n",
    "ir_eg = internal_regret_tab(p_eg, x)\n",
    "ir_bp1exp = internal_regret_tab(p_bp1exp, x)\n",
    "ir_bp1exp.plot(label=\"BP1EXP\")\n",
    "ir_eg.plot(label=\"EG\")\n",
    "plt.legend()\n",
    "plt.title(\"Internal regret comparison\")\n",
    "plt.show()"
   ]
  },
  {
   "cell_type": "markdown",
   "metadata": {
    "collapsed": true
   },
   "source": [
    "## Robustness evalution by Monte Carlo"
   ]
  },
  {
   "cell_type": "code",
   "execution_count": null,
   "metadata": {
    "collapsed": true
   },
   "outputs": [],
   "source": [
    "def stock_random_draws(returns, nstocks, ndraws):\n",
    "    \"\"\"\n",
    "    Draw a sequence of randomly chosen sets of stocks\n",
    "    \n",
    "    Args:\n",
    "        returns (pandas.core.frame.DataFrame) : the database of returns\n",
    "        nstocks (int) : number of stock for each draws\n",
    "        ndraws (int) : number of draws to perform\n",
    "    Returns:\n",
    "        pandas.core.frame.DataFrame. The random drawn stocks stacked in a dataframe\n",
    "    \"\"\"\n",
    "    stocks_draws = pd.DataFrame(index=range(0, ndraws), columns=range(0, nstocks))\n",
    "    for draw in range(0, ndraws):\n",
    "        stock_inds = list(range(0, len(returns.columns)))\n",
    "        shuffle(stock_inds)\n",
    "        chosen = stock_inds[0:nstocks]\n",
    "        stocks_draws.loc[draw, :] = chosen\n",
    "    return stocks_draws"
   ]
  },
  {
   "cell_type": "code",
   "execution_count": null,
   "metadata": {
    "collapsed": true
   },
   "outputs": [],
   "source": [
    "def bp1exp_mc_robustness(returns, random_draws, eta, nperiods):\n",
    "    \"\"\"\n",
    "    Average over randomly picked sets of stocks for internal regrets and wealth factor for BP1EXP strategy\n",
    "    \n",
    "    Args:\n",
    "        returns (pandas.core.frame.DataFrame) : the database of returns\n",
    "        random_draws (pandas.core.frame.DataFrame): the data frame of random draws\n",
    "        eta (float) : the eta parameter\n",
    "        nperiods(int) : the number of periods to consider\n",
    "    Returns:\n",
    "        tuple. A tuple of pandas.core.series.Series (average_wealth_factor_series, average_internal_regret_series)\n",
    "    \"\"\"\n",
    "    int_reg_sum_bp1exp = pd.Series(data=0, index=returns.index[:nperiods])\n",
    "    wfact_sum_bp1exp = pd.Series(data=0, index=returns.index[:nperiods])\n",
    "    for it in range(0, random_draws.shape[0]):\n",
    "        x = 1 + returns.iloc[:nperiods, random_draws.loc[it, :]]\n",
    "        delta, p_bp1exp = delta_exp(x, eta)\n",
    "        wfact_bp1exp = wealth_factor(p_bp1exp, x, 10)\n",
    "        ir_bp1exp = internal_regret_tab(p_bp1exp, x)\n",
    "        wfact_sum_bp1exp += wfact_bp1exp\n",
    "        int_reg_sum_bp1exp += ir_bp1exp\n",
    "        print(it)\n",
    "    return (1 / random_draws.shape[0]) * int_reg_sum_bp1exp, (1 / random_draws.shape[0]) * wfact_sum_bp1exp"
   ]
  },
  {
   "cell_type": "code",
   "execution_count": null,
   "metadata": {
    "collapsed": true
   },
   "outputs": [],
   "source": [
    "def eg_mc_robustness(returns, random_draws, eta, nperiods):\n",
    "    \"\"\"\n",
    "    Average over randomly picked sets of stocks for internal regrets and wealth factor for EG strategy\n",
    "    \n",
    "    Args:\n",
    "        returns (pandas.core.frame.DataFrame) : the database of returns\n",
    "        random_draws (pandas.core.frame.DataFrame): the data frame of random draws\n",
    "        eta (float) : the eta parameter\n",
    "        nperiods(int) : the number of periods to consider\n",
    "    Returns:\n",
    "        tuple. A tuple of pandas.core.series.Series (average_wealth_factor_series, average_internal_regret_series)\n",
    "    \"\"\"\n",
    "    int_reg_sum_eg = pd.Series(data=0, index=returns.index[:nperiods])\n",
    "    wfact_sum_eg = pd.Series(data=0, index=returns.index[:nperiods])\n",
    "    for it in range(0, random_draws.shape[0]):\n",
    "        x = 1 + returns.iloc[:nperiods, random_draws.loc[it, :]]\n",
    "        pinit = pd.Series(index=x.columns, data=1/len(x.columns))\n",
    "        p_eg = weights_eg(x, eta, pinit)\n",
    "        wfact_eg = wealth_factor(p_eg, x, 10)\n",
    "        ir_eg = internal_regret_tab(p_eg, x)\n",
    "        wfact_sum_eg += wfact_eg \n",
    "        int_reg_sum_eg += ir_eg\n",
    "        print(it)\n",
    "    return (1 / random_draws.shape[0]) * int_reg_sum_eg, (1 / random_draws.shape[0]) * wfact_sum_eg"
   ]
  },
  {
   "cell_type": "code",
   "execution_count": null,
   "metadata": {
    "collapsed": false
   },
   "outputs": [],
   "source": [
    "def compare_several_etas (returns, random_draws, etas_eg, etas_bp1exp, nperiods):\n",
    "    results_list = []\n",
    "    for i in range(0, len(etas_eg)):\n",
    "        ir_eg, wf_eg = eg_mc_robustness(returns, random_draws, etas_eg[i], nperiods)\n",
    "        ir_bp1exp, wf_bp1exp = bp1exp_mc_robustness(returns, random_draws, etas_bp1exp[i], nperiods)\n",
    "        results_list.append((ir_eg, wf_eg, ir_bp1exp, wf_bp1exp))\n",
    "    return results_list"
   ]
  },
  {
   "cell_type": "code",
   "execution_count": null,
   "metadata": {
    "collapsed": false
   },
   "outputs": [],
   "source": [
    "# MC averaging parameters\n",
    "nstocks = 10\n",
    "nperiods = data_returns.shape[0]\n",
    "nit = 200\n",
    "# Choice of eta to minimize the internal regret bound in the theory\n",
    "alpha = 0.3\n",
    "eta_opti_eg = alpha * np.sqrt(8 * np.log(nstocks) / nperiods)\n",
    "eta_opti_bp1exp = 4 * alpha * np.sqrt(np.log(nstocks) / nperiods)\n",
    "print(eta_opti_bp1exp)\n",
    "print(eta_opti_eg)\n",
    "# Etas to compare\n",
    "etas_eg = [eta_opti_eg, 0.5, 1, 2]\n",
    "etas_bp1exp = [eta_opti_bp1exp, 0.5, 1, 2]"
   ]
  },
  {
   "cell_type": "code",
   "execution_count": null,
   "metadata": {
    "collapsed": false
   },
   "outputs": [],
   "source": [
    "# MC computations\n",
    "stocks_draws = stock_random_draws(data_returns, nstocks, nit)\n",
    "results = compare_several_etas(data_returns, stocks_draws, etas_eg, etas_bp1exp, nperiods)"
   ]
  },
  {
   "cell_type": "code",
   "execution_count": null,
   "metadata": {
    "collapsed": true
   },
   "outputs": [],
   "source": [
    "def eg_vs_bp1exp_plot(etas, results, nstocks, ndraws, nperiods, save_file=\"EG_vs_BP1EXP_Bis.svg\", opti_ind=0):\n",
    "    fig, axes = plt.subplots(len(etas), 2, figsize=(10.0, 13.0), sharex=True)\n",
    "    plt.suptitle(\"EG vs BP1EXP - Monthly rebalancing - averaged over \" + str(nit) + \" choices of \" + str(nstocks) + \" stocks\")\n",
    "    count = 0\n",
    "    for eta in etas:\n",
    "        if count == opti_ind:\n",
    "            axes[count, 0].set_title(\"Wealth factor - optimal eta\")\n",
    "            axes[count, 1].set_title(\"Internal regret - optimal eta\")\n",
    "        else:\n",
    "            axes[count, 0].set_title(\"Wealth factor - eta=\" + str(eta))\n",
    "            axes[count, 1].set_title(\"Internal regret - eta=\" + str(eta))\n",
    "        results[count][1].plot(ax=axes[count, 0], label=\"EG\")\n",
    "        results[count][3].plot(ax=axes[count, 0], label=\"BP1EXP\")\n",
    "        results[count][0].plot(ax=axes[count, 1], label=\"EG\")\n",
    "        results[count][2].plot(ax=axes[count, 1], label=\"BP1EXP\")\n",
    "        axes[count, 0].legend()\n",
    "        axes[count, 1].legend()\n",
    "        count += 1\n",
    "    fig.savefig(output_path + save_file)\n",
    "    plt.show()"
   ]
  },
  {
   "cell_type": "code",
   "execution_count": null,
   "metadata": {
    "collapsed": false
   },
   "outputs": [],
   "source": [
    "eg_vs_bp1exp_plot(etas_eg, results, nstocks, nit, nperiods)"
   ]
  },
  {
   "cell_type": "code",
   "execution_count": null,
   "metadata": {
    "collapsed": true
   },
   "outputs": [],
   "source": []
  }
 ],
 "metadata": {
  "kernelspec": {
   "display_name": "Python 3",
   "language": "python",
   "name": "python3"
  },
  "language_info": {
   "codemirror_mode": {
    "name": "ipython",
    "version": 3
   },
   "file_extension": ".py",
   "mimetype": "text/x-python",
   "name": "python",
   "nbconvert_exporter": "python",
   "pygments_lexer": "ipython3",
   "version": "3.5.4"
  }
 },
 "nbformat": 4,
 "nbformat_minor": 0
}
